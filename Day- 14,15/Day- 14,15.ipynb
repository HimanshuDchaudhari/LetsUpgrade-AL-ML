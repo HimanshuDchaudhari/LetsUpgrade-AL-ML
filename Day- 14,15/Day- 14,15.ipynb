{
 "cells": [
  {
   "cell_type": "markdown",
   "metadata": {},
   "source": [
    "# 1. Create a 3x3x3 array with random values "
   ]
  },
  {
   "cell_type": "code",
   "execution_count": 3,
   "metadata": {},
   "outputs": [],
   "source": [
    "import numpy as np"
   ]
  },
  {
   "cell_type": "code",
   "execution_count": 2,
   "metadata": {
    "scrolled": true
   },
   "outputs": [
    {
     "data": {
      "text/plain": [
       "array([[[979, 720, 785],\n",
       "        [224, 964, 296],\n",
       "        [689, 633, 429]],\n",
       "\n",
       "       [[376, 674, 734],\n",
       "        [ 21, 368, 496],\n",
       "        [156, 141, 620]],\n",
       "\n",
       "       [[  5, 698, 995],\n",
       "        [878, 190, 717],\n",
       "        [ 86, 111, 791]]])"
      ]
     },
     "execution_count": 2,
     "metadata": {},
     "output_type": "execute_result"
    }
   ],
   "source": [
    "randomArr= np.random.randint(1,999,size=(3,3,3))\n",
    "\n",
    "randomArr"
   ]
  },
  {
   "cell_type": "markdown",
   "metadata": {},
   "source": [
    "# 2.Create a 5x5 matrix with values 1,2,3,4 just below the diagonal"
   ]
  },
  {
   "cell_type": "code",
   "execution_count": 12,
   "metadata": {},
   "outputs": [
    {
     "data": {
      "text/plain": [
       "array([[1, 0, 0, 0],\n",
       "       [0, 2, 0, 0],\n",
       "       [0, 0, 3, 0],\n",
       "       [0, 0, 0, 4]])"
      ]
     },
     "execution_count": 12,
     "metadata": {},
     "output_type": "execute_result"
    }
   ],
   "source": [
    "arr=np.diag([1,2,3,4])\n",
    "arr"
   ]
  },
  {
   "cell_type": "markdown",
   "metadata": {},
   "source": [
    "# 3.Create a 8x8 matrix and fill it with a checkerboard pattern"
   ]
  },
  {
   "cell_type": "code",
   "execution_count": 20,
   "metadata": {},
   "outputs": [
    {
     "name": "stdout",
     "output_type": "stream",
     "text": [
      "[[0. 1. 0. 1. 0. 1. 0. 1.]\n",
      " [1. 0. 1. 0. 1. 0. 1. 0.]\n",
      " [0. 1. 0. 1. 0. 1. 0. 1.]\n",
      " [1. 0. 1. 0. 1. 0. 1. 0.]\n",
      " [0. 1. 0. 1. 0. 1. 0. 1.]\n",
      " [1. 0. 1. 0. 1. 0. 1. 0.]\n",
      " [0. 1. 0. 1. 0. 1. 0. 1.]\n",
      " [1. 0. 1. 0. 1. 0. 1. 0.]]\n"
     ]
    }
   ],
   "source": [
    "arr=np.zeros((8,8))\n",
    "arr[1::2,::2] = 1\n",
    "arr[::2,1::2] = 1\n",
    "print(arr)"
   ]
  },
  {
   "cell_type": "markdown",
   "metadata": {},
   "source": [
    "# 4. Normalize a 5x5 random matrix"
   ]
  },
  {
   "cell_type": "code",
   "execution_count": 16,
   "metadata": {},
   "outputs": [
    {
     "name": "stdout",
     "output_type": "stream",
     "text": [
      "Original array is \n",
      " [[0.0673155  0.08132167 0.38122786 0.92981903 0.92782866]\n",
      " [0.17561317 0.46964439 0.4426341  0.78183939 0.49191063]\n",
      " [0.46062067 0.10246624 0.96744715 0.20614924 0.96765453]\n",
      " [0.30251878 0.82904122 0.89911386 0.33710911 0.31672341]\n",
      " [0.00710128 0.53821252 0.4373564  0.77268559 0.56065184]]\n",
      "Normalised array is \n",
      " [[0.04906997 0.05927984 0.27789795 0.67779624 0.67634535]\n",
      " [0.15398861 0.41181357 0.38812926 0.68556567 0.43133801]\n",
      " [0.31505955 0.0700858  0.66172337 0.14100385 0.66186521]\n",
      " [0.22540975 0.61772686 0.66993868 0.25118335 0.23599376]\n",
      " [0.00601808 0.45611603 0.37064404 0.65482364 0.47513256]]\n"
     ]
    }
   ],
   "source": [
    "arr1=np.random.random((5,5))\n",
    "print(\"Original array is \\n\",arr1)\n",
    "from sklearn.preprocessing import normalize\n",
    "arr2=normalize(arr1)\n",
    "print(\"Normalised array is \\n\",arr2)"
   ]
  },
  {
   "cell_type": "markdown",
   "metadata": {},
   "source": [
    "# 5.  How to find common values between two arrays?"
   ]
  },
  {
   "cell_type": "code",
   "execution_count": 27,
   "metadata": {},
   "outputs": [
    {
     "name": "stdout",
     "output_type": "stream",
     "text": [
      "First array is \n",
      " [10 20 30 40 60]\n",
      "Second  array is \n",
      " [ 20  40  60  80 100]\n",
      "Common elements are  [20 40 60]\n"
     ]
    }
   ],
   "source": [
    "arr3=np.array([10,20,30,40,60])\n",
    "print(\"First array is \\n\",arr3)\n",
    "arr4=np.array([20,40,60,80,100])\n",
    "print(\"Second  array is \\n\",arr4)\n",
    "comarr=np.intersect1d (arr3, arr4)\n",
    "print(\"Common elements are \",comarr)\n"
   ]
  },
  {
   "cell_type": "markdown",
   "metadata": {},
   "source": [
    "# 6.How to get the dates of yesterday, today and tomorrow?"
   ]
  },
  {
   "cell_type": "code",
   "execution_count": 28,
   "metadata": {},
   "outputs": [
    {
     "name": "stdout",
     "output_type": "stream",
     "text": [
      "Yestraday:  2020-07-27\n",
      "Today:  2020-07-28\n",
      "Tomorrow:  2020-07-29\n"
     ]
    }
   ],
   "source": [
    "yesterday = np.datetime64('today', 'D') - np.timedelta64(1, 'D')\n",
    "print(\"Yestraday: \",yesterday)\n",
    "today     = np.datetime64('today', 'D')\n",
    "print(\"Today: \",today)\n",
    "tomorrow  = np.datetime64('today', 'D') + np.timedelta64(1, 'D')\n",
    "print(\"Tomorrow: \",tomorrow)"
   ]
  },
  {
   "cell_type": "markdown",
   "metadata": {},
   "source": [
    "# 7. Consider two random array A and B, check if they are equal"
   ]
  },
  {
   "cell_type": "code",
   "execution_count": 37,
   "metadata": {},
   "outputs": [
    {
     "name": "stdout",
     "output_type": "stream",
     "text": [
      "First array is\n",
      " [[3 9]\n",
      " [5 9]]\n",
      "Second array is\n",
      " [[6 1]\n",
      " [1 5]]\n",
      "Not equal \n"
     ]
    }
   ],
   "source": [
    "randomArr1= np.random.randint(1,10,size=(2,2))\n",
    "print(\"First array is\\n\",randomArr1)\n",
    "randomArr2= np.random.randint(1,10,size=(2,2))\n",
    "print(\"Second array is\\n\",randomArr2)\n",
    "if ((randomArr1==randomArr2).all()==True):\n",
    "    print(\"Equal \")\n",
    "else:\n",
    "    print(\"Not equal \")\n"
   ]
  },
  {
   "cell_type": "markdown",
   "metadata": {},
   "source": [
    "# 8.Create random vector of size 10 and replace the maximum value by 0 "
   ]
  },
  {
   "cell_type": "code",
   "execution_count": 41,
   "metadata": {},
   "outputs": [
    {
     "name": "stdout",
     "output_type": "stream",
     "text": [
      "Random vector of size 10:\n",
      "\n",
      "[26  6 29 38 30 13  6 25 36 20]\n",
      "Vector after replacing the max value to 0 :\n",
      " [26  6 29  0 30 13  6 25 36 20]\n"
     ]
    }
   ],
   "source": [
    "print(\"Random vector of size 10:\\n\")\n",
    "vect= np.random.randint(1,50, size = 10)\n",
    "print(vect)\n",
    "vect[vect.argmax()]=0\n",
    "print(\"Vector after replacing the max value to 0 :\\n\",vect)"
   ]
  },
  {
   "cell_type": "markdown",
   "metadata": {},
   "source": [
    "# 9. How to print all the values of an array?"
   ]
  },
  {
   "cell_type": "code",
   "execution_count": 43,
   "metadata": {},
   "outputs": [
    {
     "name": "stdout",
     "output_type": "stream",
     "text": [
      "[ 0  1  2  3  4  5  6  7  8  9 10 11 12 13 14 15 16 17 18 19 20 21 22 23\n",
      " 24 25 26 27 28 29 30 31 32 33 34 35 36 37 38 39 40 41 42 43 44 45 46 47\n",
      " 48 49 50]\n"
     ]
    }
   ],
   "source": [
    "arr5 = np.arange(51)\n",
    "np.set_printoptions(threshold=np.inf)\n",
    "print(arr5)"
   ]
  },
  {
   "cell_type": "markdown",
   "metadata": {},
   "source": [
    "# 10.Subtract the mean of each row of a matrix"
   ]
  },
  {
   "cell_type": "code",
   "execution_count": 49,
   "metadata": {},
   "outputs": [
    {
     "name": "stdout",
     "output_type": "stream",
     "text": [
      "Original matrix:\n",
      "\n",
      "[[4 2 4 1]\n",
      " [2 1 3 4]\n",
      " [4 1 4 3]]\n",
      "\n",
      "Subtract the mean of each row of the matrix:\n",
      "\n",
      "[[ 1.25 -0.75  1.25 -1.75]\n",
      " [-0.5  -1.5   0.5   1.5 ]\n",
      " [ 1.   -2.    1.    0.  ]]\n"
     ]
    }
   ],
   "source": [
    "print(\"Original matrix:\\n\")\n",
    "arr6= np.random.randint(1,5,size=(3,4))\n",
    "print(arr6)\n",
    "print(\"\\nSubtract the mean of each row of the matrix:\\n\")\n",
    "arr7 = arr6-arr6.mean(axis=1, keepdims = True)\n",
    "print(arr7)\n"
   ]
  },
  {
   "cell_type": "markdown",
   "metadata": {},
   "source": [
    "# 11.Consider a given vector, how to add 1 to each element indexed by a second vector (be careful with repeated indices)? "
   ]
  },
  {
   "cell_type": "code",
   "execution_count": 25,
   "metadata": {},
   "outputs": [
    {
     "name": "stdout",
     "output_type": "stream",
     "text": [
      "[1. 1. 4. 3. 5. 3. 4. 2. 3. 4.]\n"
     ]
    }
   ],
   "source": [
    "Z = np.ones(10)\n",
    "\n",
    "I = np.random.randint(0,len(Z),20)\n",
    "\n",
    "np.add.at(Z, I, 1)\n",
    "\n",
    "print(Z)"
   ]
  },
  {
   "cell_type": "code",
   "execution_count": null,
   "metadata": {},
   "outputs": [],
   "source": []
  },
  {
   "cell_type": "markdown",
   "metadata": {},
   "source": [
    "# 12.How to get the diagonal of a dot product?"
   ]
  },
  {
   "cell_type": "code",
   "execution_count": 52,
   "metadata": {},
   "outputs": [
    {
     "data": {
      "text/plain": [
       "array([19, 50])"
      ]
     },
     "execution_count": 52,
     "metadata": {},
     "output_type": "execute_result"
    }
   ],
   "source": [
    "\n",
    "x= [[1,2],[3,4]]\n",
    "y = [[5,6],[7,8]]\n",
    "z = np.diag(np.dot(x,y))\n",
    "z"
   ]
  },
  {
   "cell_type": "markdown",
   "metadata": {},
   "source": [
    "# 13.How to find the most frequent value in an array?"
   ]
  },
  {
   "cell_type": "code",
   "execution_count": 54,
   "metadata": {},
   "outputs": [
    {
     "name": "stdout",
     "output_type": "stream",
     "text": [
      "Original array:\n",
      "[41 67 91 73 10 83  8 47 84 64 23 32 25 33 81 41 53 23 69 44 24 54 15 68\n",
      " 20 68 33 60 38 65]\n",
      "Most frequent value in the above array:\n",
      "23\n"
     ]
    }
   ],
   "source": [
    "arr8= np.random.randint(0, 100, 30)\n",
    "print(\"Original array:\")\n",
    "print(arr8)\n",
    "print(\"Most frequent value in the above array:\")\n",
    "print(np.bincount(arr8).argmax())"
   ]
  },
  {
   "cell_type": "markdown",
   "metadata": {},
   "source": [
    "# 14.How to get the n largest values of an array"
   ]
  },
  {
   "cell_type": "code",
   "execution_count": 56,
   "metadata": {},
   "outputs": [
    {
     "name": "stdout",
     "output_type": "stream",
     "text": [
      "Original array:\n",
      "[ 0  1  2  3  4  5  6  7  8  9 10 11 12 13 14 15 16 17 18 19 20 21 22 23\n",
      " 24 25 26 27 28 29 30 31 32 33 34 35 36 37 38 39 40 41 42 43 44 45 46 47\n",
      " 48 49 50 51 52 53 54 55 56 57 58 59 60 61 62 63 64 65 66 67 68 69 70 71\n",
      " 72 73 74 75 76 77 78 79 80 81 82 83 84 85 86 87 88 89 90 91 92 93 94 95\n",
      " 96 97 98]\n",
      "[98]\n"
     ]
    }
   ],
   "source": [
    "x = np.arange(99)\n",
    "print(\"Original array:\")\n",
    "print(x)\n",
    "np.random.shuffle(x)\n",
    "n = 1\n",
    "print (x[np.argsort(x)[-n:]])"
   ]
  },
  {
   "cell_type": "markdown",
   "metadata": {},
   "source": [
    "# 15.How to create a record array from a regular array?"
   ]
  },
  {
   "cell_type": "code",
   "execution_count": 59,
   "metadata": {},
   "outputs": [
    {
     "name": "stdout",
     "output_type": "stream",
     "text": [
      "('Veggie', 'color')\n",
      "('Tomatoes', 'Red')\n",
      "('Chilli ', 'Green')\n",
      "('Carrot', 'Orange')\n",
      "('Lemon', 'Yellow')\n"
     ]
    }
   ],
   "source": [
    "a1=np.array(['Veggie','Tomatoes','Chilli ','Carrot','Lemon'])\n",
    "a2=np.array(['color','Red','Green','Orange','Yellow'])\n",
    "result= np.core.records.fromarrays([a1, a2])\n",
    "print(result[0])\n",
    "print(result[1])\n",
    "print(result[2])\n",
    "print(result[3])\n",
    "print(result[4])"
   ]
  },
  {
   "cell_type": "code",
   "execution_count": null,
   "metadata": {},
   "outputs": [],
   "source": []
  }
 ],
 "metadata": {
  "kernelspec": {
   "display_name": "Python 3",
   "language": "python",
   "name": "python3"
  },
  "language_info": {
   "codemirror_mode": {
    "name": "ipython",
    "version": 3
   },
   "file_extension": ".py",
   "mimetype": "text/x-python",
   "name": "python",
   "nbconvert_exporter": "python",
   "pygments_lexer": "ipython3",
   "version": "3.7.4"
  }
 },
 "nbformat": 4,
 "nbformat_minor": 2
}
