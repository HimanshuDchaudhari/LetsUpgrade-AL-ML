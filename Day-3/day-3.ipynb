{
 "cells": [
  {
   "cell_type": "markdown",
   "metadata": {},
   "source": [
    "## Assignment Day 3 "
   ]
  },
  {
   "cell_type": "markdown",
   "metadata": {},
   "source": [
    "# Question 1"
   ]
  },
  {
   "cell_type": "code",
   "execution_count": 13,
   "metadata": {},
   "outputs": [
    {
     "name": "stdout",
     "output_type": "stream",
     "text": [
      "7+9j\n",
      "3+4j\n",
      "(4+5j)\n"
     ]
    }
   ],
   "source": [
    "#Program to subtract two Complex number\n",
    "No1 = input()\n",
    "No2 = input()\n",
    "print(complex(No1)-complex(No2))"
   ]
  },
  {
   "cell_type": "markdown",
   "metadata": {},
   "source": [
    "# Question 2"
   ]
  },
  {
   "cell_type": "code",
   "execution_count": 20,
   "metadata": {},
   "outputs": [
    {
     "name": "stdout",
     "output_type": "stream",
     "text": [
      "81\n",
      "3\n"
     ]
    }
   ],
   "source": [
    "#program to find fourth root of a number\n",
    "No = int(input())\n",
    "print(int(No**(1/4)))"
   ]
  },
  {
   "cell_type": "markdown",
   "metadata": {},
   "source": [
    "# Question 3"
   ]
  },
  {
   "cell_type": "code",
   "execution_count": null,
   "metadata": {},
   "outputs": [],
   "source": [
    "#swapping of two numbers with temp variable"
   ]
  },
  {
   "cell_type": "code",
   "execution_count": 24,
   "metadata": {},
   "outputs": [
    {
     "name": "stdout",
     "output_type": "stream",
     "text": [
      "No1: 20 No2: 10\n"
     ]
    }
   ],
   "source": [
    "No1 = 10 \n",
    "No2 = 20\n",
    "temp = No1\n",
    "No1 = No2\n",
    "No2 = temp\n",
    "print(\"No1:\",No1,\"No2:\",No2)"
   ]
  },
  {
   "cell_type": "markdown",
   "metadata": {},
   "source": [
    "# Question 4"
   ]
  },
  {
   "cell_type": "code",
   "execution_count": null,
   "metadata": {},
   "outputs": [],
   "source": [
    "# swapping of two numbers without temp variable\n",
    "No1 = 10\n",
    "No2 = 20\n",
    "No1,No2 = No2, No1\n",
    "print(\"No1:\",No1,\"No2:\",No2)"
   ]
  },
  {
   "cell_type": "markdown",
   "metadata": {},
   "source": [
    "# Question 5"
   ]
  },
  {
   "cell_type": "code",
   "execution_count": 27,
   "metadata": {},
   "outputs": [
    {
     "name": "stdout",
     "output_type": "stream",
     "text": [
      "12\n",
      "fahrenheit to kelvin is  262.3888888888889\n",
      "fahrenheit to celsis is  -11.11111111111111\n"
     ]
    }
   ],
   "source": [
    "#convert fahrenheit to kelvin and celsis\n",
    "F = int(input())\n",
    "kelvin = 273.5 + ((F - 32.0) * (5.0/9.0));\n",
    "celsis =  (F - 32) * 5/9;\n",
    "print(\"fahrenheit to kelvin is \",kelvin)\n",
    "print(\"fahrenheit to celsis is \",celsis)"
   ]
  },
  {
   "cell_type": "markdown",
   "metadata": {},
   "source": [
    "# Question 6"
   ]
  },
  {
   "cell_type": "code",
   "execution_count": 25,
   "metadata": {},
   "outputs": [
    {
     "name": "stdout",
     "output_type": "stream",
     "text": [
      "<class 'int'>\n",
      "<class 'float'>\n",
      "<class 'bool'>\n",
      "<class 'str'>\n",
      "<class 'complex'>\n",
      "<class 'list'>\n",
      "<class 'dict'>\n",
      "<class 'tuple'>\n"
     ]
    }
   ],
   "source": [
    "#Data type in Py\n",
    "print(type(1))\n",
    "print(type(1.2))\n",
    "print(type(True))\n",
    "print(type('Himashu'))\n",
    "print(type(3+4j))\n",
    "print(type(['no','no2']))\n",
    "print(type({'no':1,'no2':2}))\n",
    "print(type((1,2,3)))"
   ]
  },
  {
   "cell_type": "markdown",
   "metadata": {},
   "source": [
    "# Question 7"
   ]
  },
  {
   "cell_type": "markdown",
   "metadata": {},
   "source": [
    "Steps to create and upload the assignment to Github\n",
    "1. open chrome and search for the Github.org link\n",
    "2. Create account to Github\n",
    "3. Onces account create go to right corner click on Repositories.\n",
    "4. Click on new tab\n",
    "5. Enter the name of Repositories\n",
    "6. click on create Repositories \n",
    "7. onces the Repositories created then click on upload exiting file \n",
    "8. then select files wanted to upload and click on commited.\n",
    "   "
   ]
  }
 ],
 "metadata": {
  "kernelspec": {
   "display_name": "Python 3",
   "language": "python",
   "name": "python3"
  },
  "language_info": {
   "codemirror_mode": {
    "name": "ipython",
    "version": 3
   },
   "file_extension": ".py",
   "mimetype": "text/x-python",
   "name": "python",
   "nbconvert_exporter": "python",
   "pygments_lexer": "ipython3",
   "version": "3.7.4"
  }
 },
 "nbformat": 4,
 "nbformat_minor": 2
}
