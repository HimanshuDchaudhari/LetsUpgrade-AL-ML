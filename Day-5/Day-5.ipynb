{
 "cells": [
  {
   "cell_type": "markdown",
   "metadata": {},
   "source": [
    "# Assignment "
   ]
  },
  {
   "cell_type": "markdown",
   "metadata": {},
   "source": [
    "## Question 1 "
   ]
  },
  {
   "cell_type": "code",
   "execution_count": 10,
   "metadata": {},
   "outputs": [
    {
     "name": "stdout",
     "output_type": "stream",
     "text": [
      "2\n",
      "3\n",
      "5\n",
      "7\n",
      "11\n",
      "13\n",
      "17\n",
      "19\n",
      "23\n",
      "29\n",
      "31\n",
      "37\n",
      "41\n",
      "43\n",
      "47\n",
      "53\n",
      "59\n",
      "61\n",
      "67\n",
      "71\n"
     ]
    }
   ],
   "source": [
    "#WAP tfind the first 20 non-even prime natural numbers\n",
    "count = 20\n",
    "num = 2\n",
    "while count:\n",
    "    flag=1\n",
    "    for i in range(2,num-1):\n",
    "        if num%i==0:\n",
    "            flag = 0\n",
    "            break\n",
    "    \n",
    "    if flag == 1:\n",
    "        print(num)\n",
    "        count=count-1\n",
    "    \n",
    "    \n",
    "    num=num+1\n",
    "\n",
    "    \n",
    "    \n",
    "    \n",
    "    \n",
    "    \n",
    "    \n",
    "    "
   ]
  },
  {
   "cell_type": "markdown",
   "metadata": {},
   "source": [
    "## Question2"
   ]
  },
  {
   "cell_type": "code",
   "execution_count": 22,
   "metadata": {},
   "outputs": [
    {
     "name": "stdout",
     "output_type": "stream",
     "text": [
      "Himanshu\n",
      "False\n",
      "6\n",
      "1\n",
      "True\n",
      "2\n",
      "False\n",
      "CHimanshuhHimanshuaHimanshuuHimanshudHimanshuhHimanshuaHimanshurHimanshui\n",
      "Kimanshu\n",
      "HIMANSHU\n",
      "True\n",
      "False\n",
      "False\n"
     ]
    }
   ],
   "source": [
    "#15 functions of String\n",
    "string = \"Himanshu\"\n",
    "#1)\n",
    "print(string.capitalize())\n",
    "print(string.isdigit())\n",
    "print(string.index('h'))\n",
    "print(string.count('i'))\n",
    "print(string.endswith('u'))\n",
    "print(string.find('man'))\n",
    "print(string.isspace())\n",
    "print(string.join('Chaudhari'))\n",
    "print(string.replace('H','K'))\n",
    "print(string.upper())\n",
    "print(string.isalnum())\n",
    "print(string.isupper())\n",
    "print(string.isnumeric())"
   ]
  },
  {
   "cell_type": "markdown",
   "metadata": {},
   "source": [
    "# Question 3"
   ]
  },
  {
   "cell_type": "code",
   "execution_count": 24,
   "metadata": {},
   "outputs": [
    {
     "name": "stdout",
     "output_type": "stream",
     "text": [
      "aba\n",
      "Given aba is palindrome\n"
     ]
    }
   ],
   "source": [
    "str1 = input()\n",
    "if str1 == str1[::-1]:\n",
    "    print(\"Given {} is palindrome\".format(str1))\n",
    "else:\n",
    "    print(\"Given {} is not palindrome\".format(str1))"
   ]
  },
  {
   "cell_type": "markdown",
   "metadata": {},
   "source": [
    "# Question 4"
   ]
  },
  {
   "cell_type": "code",
   "execution_count": 2,
   "metadata": {},
   "outputs": [
    {
     "name": "stdout",
     "output_type": "stream",
     "text": [
      "drdarshaningleaimltrainer\n"
     ]
    }
   ],
   "source": [
    "str1= \"Dr. Darshan Ingle @AI-ML Trainer\"\n",
    "str1 = str1.replace('@','')\n",
    "str1 = str1.replace(' ','')\n",
    "str1 = str1.replace('.','')\n",
    "str1 = str1.replace('-','')\n",
    "print(str1.lower())\n"
   ]
  },
  {
   "cell_type": "code",
   "execution_count": null,
   "metadata": {},
   "outputs": [],
   "source": []
  },
  {
   "cell_type": "code",
   "execution_count": null,
   "metadata": {},
   "outputs": [],
   "source": []
  }
 ],
 "metadata": {
  "kernelspec": {
   "display_name": "Python 3",
   "language": "python",
   "name": "python3"
  },
  "language_info": {
   "codemirror_mode": {
    "name": "ipython",
    "version": 3
   },
   "file_extension": ".py",
   "mimetype": "text/x-python",
   "name": "python",
   "nbconvert_exporter": "python",
   "pygments_lexer": "ipython3",
   "version": "3.7.4"
  }
 },
 "nbformat": 4,
 "nbformat_minor": 2
}
