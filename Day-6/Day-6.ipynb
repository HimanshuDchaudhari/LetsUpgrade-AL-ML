{
 "cells": [
  {
   "cell_type": "markdown",
   "metadata": {},
   "source": [
    "## Question 1\n",
    "##### Assuming that we have some email addresses in the \"username@companyname.com\" format, please write programto print the company name of a given email address. Both user names and company names are composed of letters only."
   ]
  },
  {
   "cell_type": "code",
   "execution_count": 1,
   "metadata": {},
   "outputs": [
    {
     "name": "stdout",
     "output_type": "stream",
     "text": [
      "gmail\n"
     ]
    }
   ],
   "source": [
    "def email_split(args):\n",
    "    str1 = args\n",
    "    y = str1.partition(\"@\")\n",
    "    x = y[2] . partition(\".\")\n",
    "    print(x[0])\n",
    "email_split(\"doe@gmail.com\")"
   ]
  },
  {
   "cell_type": "markdown",
   "metadata": {},
   "source": [
    "### Question 2:\n",
    "##### Write a program that accepts a comma-separated sequence of words as input and prints the words in a comma separated sequence after sorting them alphabetically."
   ]
  },
  {
   "cell_type": "code",
   "execution_count": 2,
   "metadata": {},
   "outputs": [
    {
     "name": "stdout",
     "output_type": "stream",
     "text": [
      "enter a string: Himanshu, Dilip, himanshu, Chaudhari\n",
      " Chaudhari, Dilip, himanshu,Himanshu\n"
     ]
    }
   ],
   "source": [
    "y = input(\"enter a string: \")\n",
    "y = y.split(\",\")\n",
    "y = sorted(y)\n",
    "print(\",\".join(y))"
   ]
  },
  {
   "cell_type": "markdown",
   "metadata": {},
   "source": [
    "### Question 3:\n",
    "##### Create your own Jupyter Notebook for Sets.\n"
   ]
  },
  {
   "cell_type": "code",
   "execution_count": 4,
   "metadata": {},
   "outputs": [
    {
     "name": "stdout",
     "output_type": "stream",
     "text": [
      "{'Dilip', 'himanshu', 'Yash', 'Ravan'}\n"
     ]
    }
   ],
   "source": [
    "#set\n",
    "set1 = {\"himanshu\" , \"Dilip\" , \"Ravan\" , \"Yash\"}\n",
    "print(set1)"
   ]
  },
  {
   "cell_type": "code",
   "execution_count": 6,
   "metadata": {},
   "outputs": [
    {
     "name": "stdout",
     "output_type": "stream",
     "text": [
      "{'Dilip', 'Ravan', 'himanshu', 'Yash', 'Yogesh'}\n"
     ]
    }
   ],
   "source": [
    "#append to set\n",
    "set1.add(\"Yogesh\")\n",
    "print(set1)   # appending"
   ]
  },
  {
   "cell_type": "code",
   "execution_count": 11,
   "metadata": {},
   "outputs": [
    {
     "name": "stdout",
     "output_type": "stream",
     "text": [
      "True\n",
      "False\n"
     ]
    },
    {
     "data": {
      "text/plain": [
       "{1, 2, 3, 5}"
      ]
     },
     "execution_count": 11,
     "metadata": {},
     "output_type": "execute_result"
    }
   ],
   "source": [
    "#searching items\n",
    "print(\"Ravan\"  in set1)\n",
    "print('Rajesh' in set1)"
   ]
  },
  {
   "cell_type": "code",
   "execution_count": 12,
   "metadata": {},
   "outputs": [
    {
     "name": "stdout",
     "output_type": "stream",
     "text": [
      "{'Dilip', 'Rohit', 'Jignesh', 'Ravan', 'himanshu', 'Yash', 'Virat', 'Ram', 'Yogesh'}\n"
     ]
    }
   ],
   "source": [
    "#updating set\n",
    "set1.update([\"Jignesh\",\"Ram\",\"Rohit\",\"Virat\"])\n",
    "print(set1)"
   ]
  },
  {
   "cell_type": "code",
   "execution_count": 13,
   "metadata": {},
   "outputs": [
    {
     "name": "stdout",
     "output_type": "stream",
     "text": [
      "9\n"
     ]
    }
   ],
   "source": [
    "print(len(set1))"
   ]
  },
  {
   "cell_type": "code",
   "execution_count": 16,
   "metadata": {},
   "outputs": [
    {
     "name": "stdout",
     "output_type": "stream",
     "text": [
      "{'Dilip', 'Rohit', 'Ravan', 'himanshu', 'Yash', 'Virat', 'Yogesh'}\n",
      "7\n"
     ]
    }
   ],
   "source": [
    "#set1.remove(\"Ram\")\n",
    "set1.remove(\"Jignesh\")\n",
    "print(set1)\n",
    "print(len(set1))"
   ]
  },
  {
   "cell_type": "code",
   "execution_count": 17,
   "metadata": {},
   "outputs": [
    {
     "name": "stdout",
     "output_type": "stream",
     "text": [
      "0\n"
     ]
    }
   ],
   "source": [
    "set1.clear()\n",
    "print(len(set1))"
   ]
  },
  {
   "cell_type": "markdown",
   "metadata": {},
   "source": [
    "## Question 4:\n",
    "#### Given a list of n-1 numbers ranging from 1 to n, your task is to find the missing number. There are no duplicates.Input Format:The first line contains n-1 numbers with each number separated by a space.\n",
    "#### Output Format:\n",
    "#### Print the missing number\n",
    "#### Example:\n",
    "#### Input:1 2 4 6 3 7 8\n",
    "#### Output:5\n",
    "#### Explanation:\n",
    "#### In the above list of numbers 5 is missing and hence 5 is the input"
   ]
  },
  {
   "cell_type": "code",
   "execution_count": 2,
   "metadata": {},
   "outputs": [
    {
     "name": "stdout",
     "output_type": "stream",
     "text": [
      "Input:1 2 3 4 6 7 8 9\n",
      "Output: 5\n"
     ]
    }
   ],
   "source": [
    "a = [int(i) for i in input('Input:').split()]\n",
    "set1 = [i for i in range(min(a),max(a)) if i not in a]\n",
    "print('Output:',set1[0])"
   ]
  },
  {
   "cell_type": "markdown",
   "metadata": {},
   "source": [
    "### Question 5:\n",
    "##### With a given list L, write a program to print this list L after removing all duplicate values with original order reserved.\n",
    "##### Example:\n",
    "##### If the input list is\n",
    "##### 12 24 35 24 88 120 155 88 120 155\n",
    "##### Then the output should be\n",
    "##### 12 24 35 88 120 155\n",
    "##### Explanation:\n",
    "##### Third, seventh and ninth element of the list L has been removed because it was already present.\n",
    "##### Input Format:\n",
    "##### In one line take the elements of the list L with each element separated by a space.\n",
    "##### Output Format:\n",
    "##### Print the elements of the modified list in one line with each element separated by a space.\n",
    "##### Example:\n",
    "##### Input: 12 24 35 24\n",
    "##### Output:\n",
    "##### 12 24 35"
   ]
  },
  {
   "cell_type": "code",
   "execution_count": 1,
   "metadata": {},
   "outputs": [
    {
     "name": "stdout",
     "output_type": "stream",
     "text": [
      "3 2 1 4 4 3 5 2 6 7 5 4\n",
      "1 2 3 4 5 6 7 "
     ]
    }
   ],
   "source": [
    "a = [int(i) for i in input().split()]\n",
    "for i in set(a):\n",
    "    print(i,end=' ')\n"
   ]
  }
 ],
 "metadata": {
  "kernelspec": {
   "display_name": "Python 3",
   "language": "python",
   "name": "python3"
  },
  "language_info": {
   "codemirror_mode": {
    "name": "ipython",
    "version": 3
   },
   "file_extension": ".py",
   "mimetype": "text/x-python",
   "name": "python",
   "nbconvert_exporter": "python",
   "pygments_lexer": "ipython3",
   "version": "3.7.4"
  }
 },
 "nbformat": 4,
 "nbformat_minor": 2
}
